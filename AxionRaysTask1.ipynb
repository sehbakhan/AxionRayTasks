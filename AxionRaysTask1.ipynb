{
 "cells": [
  {
   "cell_type": "code",
   "execution_count": 32,
   "metadata": {
    "colab": {
     "base_uri": "https://localhost:8080/",
     "height": 712
    },
    "collapsed": true,
    "id": "eFl4MWVqtmIA",
    "outputId": "d33ddc37-de1c-47b1-9096-fe35bf6abbe1"
   },
   "outputs": [
    {
     "name": "stderr",
     "output_type": "stream",
     "text": [
      "[nltk_data] Downloading package stopwords to\n",
      "[nltk_data]     C:\\Users\\MTR\\AppData\\Roaming\\nltk_data...\n",
      "[nltk_data]   Package stopwords is already up-to-date!\n"
     ]
    },
    {
     "data": {
      "text/plain": [
       "True"
      ]
     },
     "execution_count": 32,
     "metadata": {},
     "output_type": "execute_result"
    }
   ],
   "source": [
    "import pandas as pd\n",
    "import numpy as np\n",
    "import matplotlib.pyplot as plt\n",
    "import seaborn as sns\n",
    "from sklearn.feature_extraction.text import TfidfVectorizer\n",
    "from sklearn.metrics.pairwise import cosine_similarity\n",
    "import nltk\n",
    "from nltk.corpus import stopwords\n",
    "import re\n",
    "\n",
    "nltk.download('stopwords')"
   ]
  },
  {
   "cell_type": "code",
   "execution_count": 33,
   "metadata": {},
   "outputs": [],
   "source": [
    "import warnings\n",
    "warnings.filterwarnings('ignore')"
   ]
  },
  {
   "cell_type": "code",
   "execution_count": 34,
   "metadata": {},
   "outputs": [
    {
     "data": {
      "text/html": [
       "<div>\n",
       "<style scoped>\n",
       "    .dataframe tbody tr th:only-of-type {\n",
       "        vertical-align: middle;\n",
       "    }\n",
       "\n",
       "    .dataframe tbody tr th {\n",
       "        vertical-align: top;\n",
       "    }\n",
       "\n",
       "    .dataframe thead th {\n",
       "        text-align: right;\n",
       "    }\n",
       "</style>\n",
       "<table border=\"1\" class=\"dataframe\">\n",
       "  <thead>\n",
       "    <tr style=\"text-align: right;\">\n",
       "      <th></th>\n",
       "      <th>Primary Key</th>\n",
       "      <th>Order Date</th>\n",
       "      <th>Product Category</th>\n",
       "      <th>Complaint</th>\n",
       "      <th>Cause</th>\n",
       "      <th>Correction</th>\n",
       "      <th>Root Cause</th>\n",
       "      <th>Symptom Condition 1</th>\n",
       "      <th>Symptom Component 1</th>\n",
       "      <th>Symptom Condition 2</th>\n",
       "      <th>Symptom Component 2</th>\n",
       "      <th>Symptom Condition 3</th>\n",
       "      <th>Symptom Component 3</th>\n",
       "      <th>Fix Condition 1</th>\n",
       "      <th>Fix Component 1</th>\n",
       "      <th>Fix Condition 2</th>\n",
       "      <th>Fix Component 2</th>\n",
       "      <th>Fix Condition 3</th>\n",
       "      <th>Fix Component 3</th>\n",
       "    </tr>\n",
       "  </thead>\n",
       "  <tbody>\n",
       "    <tr>\n",
       "      <th>0</th>\n",
       "      <td>SO0026296-1</td>\n",
       "      <td>3/8/2023</td>\n",
       "      <td>SPRAYS</td>\n",
       "      <td>Visibly notice fasteners under cab on p clips ...</td>\n",
       "      <td>Not tighten at factory.</td>\n",
       "      <td>GO THROUGH AND RE-TIGHTEN ALL P CLIPS, NUTS, A...</td>\n",
       "      <td>Not Tightened</td>\n",
       "      <td>Loose</td>\n",
       "      <td>Cab P Clip</td>\n",
       "      <td>Loose</td>\n",
       "      <td>Left-Air Duct</td>\n",
       "      <td>Loose</td>\n",
       "      <td>Bulkhead Connector</td>\n",
       "      <td>Retightened</td>\n",
       "      <td>Cab P Clip</td>\n",
       "      <td>Retightened</td>\n",
       "      <td>Left Air Duct</td>\n",
       "      <td>Retightened</td>\n",
       "      <td>Bulkhead Connector</td>\n",
       "    </tr>\n",
       "    <tr>\n",
       "      <th>1</th>\n",
       "      <td>SO0026385-1</td>\n",
       "      <td>3/8/2023</td>\n",
       "      <td>SPRAYS</td>\n",
       "      <td>Fuel door will not stay open</td>\n",
       "      <td>gas strut not installed or anywhere on machine</td>\n",
       "      <td>FOUND GAS STRUT NOT INSTALLED OR ANYWHERE ON M...</td>\n",
       "      <td>Not Installed</td>\n",
       "      <td>Won't stay open</td>\n",
       "      <td>Fuel Door</td>\n",
       "      <td>NaN</td>\n",
       "      <td>NaN</td>\n",
       "      <td>NaN</td>\n",
       "      <td>NaN</td>\n",
       "      <td>Installed</td>\n",
       "      <td>Gas Strut</td>\n",
       "      <td>NaN</td>\n",
       "      <td>NaN</td>\n",
       "      <td>NaN</td>\n",
       "      <td>NaN</td>\n",
       "    </tr>\n",
       "    <tr>\n",
       "      <th>2</th>\n",
       "      <td>SO0026385-11</td>\n",
       "      <td>3/8/2023</td>\n",
       "      <td>SPRAYS</td>\n",
       "      <td>Compressor pressure line, braided steel, crushed</td>\n",
       "      <td>Compressor pressure line, braided steel, crush...</td>\n",
       "      <td>DRAIN AIR FROM SYSTEM.REMOVE ASSOCIATED P CLIP...</td>\n",
       "      <td>Not Mentioned</td>\n",
       "      <td>Crushed</td>\n",
       "      <td>Compressor Pressure Line</td>\n",
       "      <td>NaN</td>\n",
       "      <td>NaN</td>\n",
       "      <td>NaN</td>\n",
       "      <td>NaN</td>\n",
       "      <td>Replaced</td>\n",
       "      <td>Braided Steel</td>\n",
       "      <td>NaN</td>\n",
       "      <td>NaN</td>\n",
       "      <td>NaN</td>\n",
       "      <td>NaN</td>\n",
       "    </tr>\n",
       "    <tr>\n",
       "      <th>3</th>\n",
       "      <td>SO0028352-1</td>\n",
       "      <td>3/8/2023</td>\n",
       "      <td>SPRAYS</td>\n",
       "      <td>Oil running from bottom of machine</td>\n",
       "      <td>oil return under machine swivel fitting left l...</td>\n",
       "      <td>OIL RETURN UNDER MACHINE SWIVEL FITTING LEFT L...</td>\n",
       "      <td>Loosened</td>\n",
       "      <td>Oil Running</td>\n",
       "      <td>Not Mentioned</td>\n",
       "      <td>NaN</td>\n",
       "      <td>NaN</td>\n",
       "      <td>NaN</td>\n",
       "      <td>NaN</td>\n",
       "      <td>Topped Off</td>\n",
       "      <td>O-Ring</td>\n",
       "      <td>NaN</td>\n",
       "      <td>NaN</td>\n",
       "      <td>NaN</td>\n",
       "      <td>NaN</td>\n",
       "    </tr>\n",
       "    <tr>\n",
       "      <th>4</th>\n",
       "      <td>SO0028770-1</td>\n",
       "      <td>3/8/2023</td>\n",
       "      <td>SPRAYS</td>\n",
       "      <td>missing vector &amp; intrip unlocks.</td>\n",
       "      <td>missing vector &amp; intrip unlocks were not insta...</td>\n",
       "      <td>INSTALLED MISSING UNLOCKS RAN AND TESTED.</td>\n",
       "      <td>Not Included</td>\n",
       "      <td>Missing</td>\n",
       "      <td>Vector</td>\n",
       "      <td>NaN</td>\n",
       "      <td>NaN</td>\n",
       "      <td>NaN</td>\n",
       "      <td>NaN</td>\n",
       "      <td>Installed</td>\n",
       "      <td>Unlocks</td>\n",
       "      <td>NaN</td>\n",
       "      <td>NaN</td>\n",
       "      <td>NaN</td>\n",
       "      <td>NaN</td>\n",
       "    </tr>\n",
       "  </tbody>\n",
       "</table>\n",
       "</div>"
      ],
      "text/plain": [
       "    Primary Key Order Date Product Category  \\\n",
       "0   SO0026296-1   3/8/2023           SPRAYS   \n",
       "1   SO0026385-1   3/8/2023           SPRAYS   \n",
       "2  SO0026385-11   3/8/2023           SPRAYS   \n",
       "3   SO0028352-1   3/8/2023           SPRAYS   \n",
       "4   SO0028770-1   3/8/2023           SPRAYS   \n",
       "\n",
       "                                           Complaint  \\\n",
       "0  Visibly notice fasteners under cab on p clips ...   \n",
       "1                       Fuel door will not stay open   \n",
       "2   Compressor pressure line, braided steel, crushed   \n",
       "3                 Oil running from bottom of machine   \n",
       "4                   missing vector & intrip unlocks.   \n",
       "\n",
       "                                               Cause  \\\n",
       "0                            Not tighten at factory.   \n",
       "1     gas strut not installed or anywhere on machine   \n",
       "2  Compressor pressure line, braided steel, crush...   \n",
       "3  oil return under machine swivel fitting left l...   \n",
       "4  missing vector & intrip unlocks were not insta...   \n",
       "\n",
       "                                          Correction     Root Cause  \\\n",
       "0  GO THROUGH AND RE-TIGHTEN ALL P CLIPS, NUTS, A...  Not Tightened   \n",
       "1  FOUND GAS STRUT NOT INSTALLED OR ANYWHERE ON M...  Not Installed   \n",
       "2  DRAIN AIR FROM SYSTEM.REMOVE ASSOCIATED P CLIP...  Not Mentioned   \n",
       "3  OIL RETURN UNDER MACHINE SWIVEL FITTING LEFT L...       Loosened   \n",
       "4          INSTALLED MISSING UNLOCKS RAN AND TESTED.   Not Included   \n",
       "\n",
       "  Symptom Condition 1       Symptom Component 1 Symptom Condition 2  \\\n",
       "0               Loose                Cab P Clip               Loose   \n",
       "1     Won't stay open                 Fuel Door                 NaN   \n",
       "2             Crushed  Compressor Pressure Line                 NaN   \n",
       "3         Oil Running             Not Mentioned                 NaN   \n",
       "4             Missing                    Vector                 NaN   \n",
       "\n",
       "  Symptom Component 2 Symptom Condition 3 Symptom Component 3 Fix Condition 1  \\\n",
       "0       Left-Air Duct               Loose  Bulkhead Connector     Retightened   \n",
       "1                 NaN                 NaN                 NaN       Installed   \n",
       "2                 NaN                 NaN                 NaN        Replaced   \n",
       "3                 NaN                 NaN                 NaN      Topped Off   \n",
       "4                 NaN                 NaN                 NaN       Installed   \n",
       "\n",
       "  Fix Component 1 Fix Condition 2 Fix Component 2 Fix Condition 3  \\\n",
       "0      Cab P Clip     Retightened   Left Air Duct     Retightened   \n",
       "1       Gas Strut             NaN             NaN             NaN   \n",
       "2   Braided Steel             NaN             NaN             NaN   \n",
       "3          O-Ring             NaN             NaN             NaN   \n",
       "4         Unlocks             NaN             NaN             NaN   \n",
       "\n",
       "      Fix Component 3  \n",
       "0  Bulkhead Connector  \n",
       "1                 NaN  \n",
       "2                 NaN  \n",
       "3                 NaN  \n",
       "4                 NaN  "
      ]
     },
     "execution_count": 34,
     "metadata": {},
     "output_type": "execute_result"
    }
   ],
   "source": [
    "df = pd.read_csv(r'C:\\Users\\MTR\\OneDrive\\Desktop\\AxionRay\\Task1.csv')\n",
    "df.head()"
   ]
  },
  {
   "cell_type": "code",
   "execution_count": 35,
   "metadata": {
    "colab": {
     "base_uri": "https://localhost:8080/"
    },
    "collapsed": true,
    "id": "_AaBu-TZuUFw",
    "outputId": "1c190838-f3b1-4a9b-9443-9fd7fd626d03"
   },
   "outputs": [
    {
     "name": "stdout",
     "output_type": "stream",
     "text": [
      "<class 'pandas.core.frame.DataFrame'>\n",
      "RangeIndex: 20 entries, 0 to 19\n",
      "Data columns (total 19 columns):\n",
      " #   Column               Non-Null Count  Dtype \n",
      "---  ------               --------------  ----- \n",
      " 0   Primary Key          20 non-null     object\n",
      " 1   Order Date           20 non-null     object\n",
      " 2   Product Category     20 non-null     object\n",
      " 3   Complaint            20 non-null     object\n",
      " 4   Cause                20 non-null     object\n",
      " 5   Correction           20 non-null     object\n",
      " 6   Root Cause           20 non-null     object\n",
      " 7   Symptom Condition 1  20 non-null     object\n",
      " 8   Symptom Component 1  20 non-null     object\n",
      " 9   Symptom Condition 2  1 non-null      object\n",
      " 10  Symptom Component 2  1 non-null      object\n",
      " 11  Symptom Condition 3  1 non-null      object\n",
      " 12  Symptom Component 3  1 non-null      object\n",
      " 13  Fix Condition 1      20 non-null     object\n",
      " 14  Fix Component 1      20 non-null     object\n",
      " 15  Fix Condition 2      1 non-null      object\n",
      " 16  Fix Component 2      1 non-null      object\n",
      " 17  Fix Condition 3      1 non-null      object\n",
      " 18  Fix Component 3      1 non-null      object\n",
      "dtypes: object(19)\n",
      "memory usage: 3.1+ KB\n"
     ]
    }
   ],
   "source": [
    "df.info()"
   ]
  },
  {
   "cell_type": "code",
   "execution_count": 36,
   "metadata": {
    "colab": {
     "base_uri": "https://localhost:8080/",
     "height": 680
    },
    "collapsed": true,
    "id": "c7zbX_TYunSb",
    "outputId": "fa0ca3d9-db76-4f15-f284-8d0d3a433c94"
   },
   "outputs": [
    {
     "data": {
      "text/plain": [
       "Primary Key             0\n",
       "Order Date              0\n",
       "Product Category        0\n",
       "Complaint               0\n",
       "Cause                   0\n",
       "Correction              0\n",
       "Root Cause              0\n",
       "Symptom Condition 1     0\n",
       "Symptom Component 1     0\n",
       "Symptom Condition 2    19\n",
       "Symptom Component 2    19\n",
       "Symptom Condition 3    19\n",
       "Symptom Component 3    19\n",
       "Fix Condition 1         0\n",
       "Fix Component 1         0\n",
       "Fix Condition 2        19\n",
       "Fix Component 2        19\n",
       "Fix Condition 3        19\n",
       "Fix Component 3        19\n",
       "dtype: int64"
      ]
     },
     "execution_count": 36,
     "metadata": {},
     "output_type": "execute_result"
    }
   ],
   "source": [
    "df.isnull().sum()"
   ]
  },
  {
   "cell_type": "code",
   "execution_count": 37,
   "metadata": {
    "colab": {
     "base_uri": "https://localhost:8080/"
    },
    "id": "agVliAtIu2WG",
    "outputId": "516a4d16-6cf2-4dd8-ce36-1350f917f584"
   },
   "outputs": [
    {
     "data": {
      "text/plain": [
       "0"
      ]
     },
     "execution_count": 37,
     "metadata": {},
     "output_type": "execute_result"
    }
   ],
   "source": [
    "df.duplicated().sum()"
   ]
  },
  {
   "cell_type": "code",
   "execution_count": 38,
   "metadata": {
    "id": "BW6vjt-9YVmF"
   },
   "outputs": [],
   "source": [
    "#Creating Taxonomy \n",
    "taxonomy = {\n",
    "    \"Root Cause\": [\"faulty bolts\",\"external issue\",\"internal issue\",\"faulty autoboom\",\"drip down\",\"out of range\",\n",
    "                   \"no oring\",\"oring\",\"failed sending\",\"poor material\",\"out of fitting\",\"not included\",\"leaking\",\n",
    "                   \"loose\",\"crushed\",\"not tighten\",\"not installed\",\"misalignment\", \"overheating\", \"wear and tear\"],\n",
    "    \"Symptom_Condition\": [\"won't work\",\"will not work\",\"error codes\",\"fault\",\"uneven\",\"open\",\"broke\",\n",
    "                          \"components missing\",\"unlocks\",\"crushed\",\"loose\",\"leak\",\"oil dripping\",\n",
    "                          \"Will not stay open\",\"won't stay open\",\"oil running\",\"Noise\", \"Vibration\",\n",
    "                          \"Overheating\"],\n",
    "    \"Symptom_Component\": [\"bracket\",\"condenser\",\"transducer\",\"elbow\",\"supply module\",\"sensors\",\"hose\",\"hydraulik\",\n",
    "                          \"hood\",\"fuel sender\",\"rinse tank\",\"sight glass tube\",\"ncv harness\",\n",
    "                          \"bulk head\",\"oring\",\"adapter\",\"hydraulic reservoir\",\"brackets\",\"bolts\",\"coupler\",\n",
    "                          \"intrip\",\"vector\",\"swivel fitting\",\"compressor pressure line\",\"braided steel\",\"fuel door\",\n",
    "                          \"left air duct\",\"bulkhead connectors\",\"p clips\",\"engine\", \"gearbox\", \"brakes\"],\n",
    "    \"Fix_Condition\": [\"working\",\"fixed codes\",\"fixed\",\"aligned\",\"locked\",\"replaced\",\"installed\",\"tighten\",\n",
    "                          \"repaired\",\"lubrication\", \"alignment\", \"replacement\"],\n",
    "    \"Fix_Component\": [\"bracket\",\"condenser\",\"transducer\",\"elbow\",\"supply module\",\"sensors\",\"hose\",\"hydraulik\",\n",
    "                          \"hood\",\"fuel sender\",\"rinse tank\",\"sight glass tube\",\"ncv harness\",\n",
    "                          \"bulk head\",\"oring\",\"adapter\",\"hydraulic reservoir\",\"brackets\",\"bolts\",\"coupler\",\n",
    "                          \"intrip\",\"vector\",\"swivel fitting\",\"compressor pressure line\",\"braided steel\",\"fuel door\",\n",
    "                          \"left air duct\",\"bulkhead connectors\",\"p clips\",\"screws\", \"bearings\", \"pipes\"]\n",
    "}\n",
    "\n",
    "opposite_terms = {\n",
    "    \"faulty bolts\": \"replaced bolts\",\n",
    "    \"external issue\": \"resolved externally\",\n",
    "    \"internal issue\": \"resolved internally\",\n",
    "    \"faulty autoboom\": \"autoboom fixed\",\n",
    "    \"drip down\": \"sealed properly\",\n",
    "    \"out of range\": \"within range\",\n",
    "    \"no oring\": \"oring installed\",\n",
    "    \"oring\": \"oring fixed\",\n",
    "    \"failed sending\": \"successful sending\",\n",
    "    \"poor material\": \"quality material\",\n",
    "    \"out of fitting\": \"fitted properly\",\n",
    "    \"not included\": \"included\",\n",
    "    \"leaking\": \"sealed\",\n",
    "    \"loose\": \"tighten\",\n",
    "    \"leak\": \"sealed\",\n",
    "    \"oil dripping\": \"no leaks\",\n",
    "    \"loose\": \"tightened\",\n",
    "    \"crushed\": \"replaced\",\n",
    "    \"not tighten\": \"tightened\",\n",
    "    \"not installed\": \"installed\",\n",
    "    \"misalignment\": \"aligned\",\n",
    "    \"overheating\": \"cooled\",\n",
    "    \"wear and tear\": \"restored\"\n",
    "}"
   ]
  },
  {
   "cell_type": "code",
   "execution_count": 39,
   "metadata": {},
   "outputs": [],
   "source": [
    "# Preprocessing function\n",
    "def preprocess_text(text):\n",
    "    text = re.sub(r'[^\\w\\s]', '', str(text))\n",
    "    text = text.lower()\n",
    "    tokens = text.split()\n",
    "    tokens = [word for word in tokens if word not in stopwords.words('english')]\n",
    "    return ' '.join(tokens)\n",
    "\n",
    "# Preprocess dataset columns\n",
    "df['Complaint'] = df['Complaint'].apply(preprocess_text)\n",
    "df['Cause'] = df['Cause'].apply(preprocess_text)\n",
    "df['Correction'] = df['Correction'].apply(preprocess_text)\n"
   ]
  },
  {
   "cell_type": "code",
   "execution_count": 40,
   "metadata": {},
   "outputs": [],
   "source": [
    "# Function to find the best match for a taxonomy category\n",
    "def find_best_match(text, category):\n",
    "    if not text:\n",
    "        return \"Unclassified\"\n",
    "    corpus = taxonomy[category] + [text]\n",
    "    vectorizer = TfidfVectorizer()\n",
    "    tfidf_matrix = vectorizer.fit_transform(corpus)\n",
    "    similarity_scores = cosine_similarity(tfidf_matrix[-1], tfidf_matrix[:-1])\n",
    "    best_match_idx = similarity_scores.argmax()\n",
    "    return taxonomy[category][best_match_idx] if similarity_scores.max() > 0.1 else \"Unclassified\"\n",
    "\n"
   ]
  },
  {
   "cell_type": "code",
   "execution_count": 41,
   "metadata": {},
   "outputs": [],
   "source": [
    "# Vectorizer and similarity computation for a taxonomy category\n",
    "def find_matches(text, category):\n",
    "    if not text:\n",
    "        return []\n",
    "    vectorizer = TfidfVectorizer()\n",
    "    tfidf_matrix = vectorizer.fit_transform(taxonomy[category] + [text])\n",
    "    similarity_scores = cosine_similarity(tfidf_matrix[-1], tfidf_matrix[:-1]).flatten()\n",
    "    matched_indices = similarity_scores.argsort()[::-1]\n",
    "    matches = [taxonomy[category][i] for i in matched_indices if similarity_scores[i] > 0.1]\n",
    "    return matches[:3]"
   ]
  },
  {
   "cell_type": "code",
   "execution_count": 42,
   "metadata": {},
   "outputs": [],
   "source": [
    "# Apply taxonomy tagging\n",
    "def assign_symptom_components(text, category, columns):\n",
    "    matches = find_matches(text, category)\n",
    "    for i in range(len(columns)):\n",
    "        if i < len(matches) and matches[i]:\n",
    "            columns[i] = matches[i]\n",
    "        else:\n",
    "            columns[i] = \"\"\n",
    "    return columns"
   ]
  },
  {
   "cell_type": "code",
   "execution_count": 43,
   "metadata": {},
   "outputs": [],
   "source": [
    "def find_fix_condition(text, category):\n",
    "    if not text:\n",
    "        return \"-\"\n",
    "\n",
    "    # Check for a direct match in opposite_terms\n",
    "    if text.lower() in opposite_terms:\n",
    "        return opposite_terms[text.lower()]\n",
    "\n",
    "    # Use taxonomy for finding the best match\n",
    "    corpus = taxonomy[category] + [text]\n",
    "    vectorizer = TfidfVectorizer()\n",
    "    tfidf_matrix = vectorizer.fit_transform(corpus)\n",
    "    similarity_scores = cosine_similarity(tfidf_matrix[-1], tfidf_matrix[:-1])\n",
    "    best_match_idx = similarity_scores.argmax()\n",
    "\n",
    "    return taxonomy[category][best_match_idx] if similarity_scores.max() > 0.1 else \" \""
   ]
  },
  {
   "cell_type": "code",
   "execution_count": 44,
   "metadata": {},
   "outputs": [],
   "source": [
    "# Tagging columns\n",
    "df['Root Cause'] = df['Cause'].apply(lambda x: find_best_match(x, 'Root Cause'))\n",
    "df['Symptom Condition 1'] = df['Complaint'].apply(lambda x: find_best_match(x, 'Symptom_Condition'))\n",
    "df['Symptom Condition 2'] = df['Complaint'].apply(lambda x: find_best_match(x, 'Symptom_Condition'))\n",
    "df['Symptom Condition 3'] = df['Complaint'].apply(lambda x: find_best_match(x, 'Symptom_Condition'))\n",
    "df['Fix Condition 1'] = df['Correction'].apply(lambda x: find_fix_condition(x, 'Fix_Condition'))\n",
    "df['Fix Condition 2'] = df['Correction'].apply(lambda x: find_fix_condition(x, 'Fix_Condition'))\n",
    "df['Fix Condition 3'] = df['Correction'].apply(lambda x: find_fix_condition(x, 'Fix_Condition'))\n",
    "\n",
    "for category, columns in [\n",
    "    (\"Symptom_Component\", [\"Symptom Component 1\", \"Symptom Component 2\", \"Symptom Component 3\"]),\n",
    "    (\"Fix_Component\", [\"Fix Component 1\", \"Fix Component 2\", \"Fix Component 3\"])\n",
    "]:\n",
    "    df[columns] = \"\"\n",
    "    if category == \"Symptom_Component\":\n",
    "        for index in df.index:\n",
    "            updated_columns = assign_symptom_components(df.loc[index, 'Complaint'], category, columns.copy())\n",
    "            df.loc[index, columns] = updated_columns\n",
    "    elif category == \"Fix_Component\":\n",
    "        for index in df.index:\n",
    "            updated_columns = assign_symptom_components(df.loc[index, 'Correction'], category, columns.copy())\n",
    "            df.loc[index, columns] = updated_columns\n",
    "\n",
    "output_path = \"tagged_data.csv\"\n",
    "df.to_csv(output_path, index=False)"
   ]
  },
  {
   "cell_type": "code",
   "execution_count": 45,
   "metadata": {},
   "outputs": [
    {
     "data": {
      "text/plain": [
       "'tagged_data.csv'"
      ]
     },
     "execution_count": 45,
     "metadata": {},
     "output_type": "execute_result"
    }
   ],
   "source": [
    "output_path"
   ]
  },
  {
   "cell_type": "code",
   "execution_count": null,
   "metadata": {},
   "outputs": [],
   "source": []
  }
 ],
 "metadata": {
  "colab": {
   "provenance": []
  },
  "kernelspec": {
   "display_name": "Python 3",
   "name": "python3"
  },
  "language_info": {
   "codemirror_mode": {
    "name": "ipython",
    "version": 3
   },
   "file_extension": ".py",
   "mimetype": "text/x-python",
   "name": "python",
   "nbconvert_exporter": "python",
   "pygments_lexer": "ipython3",
   "version": "3.12.5"
  }
 },
 "nbformat": 4,
 "nbformat_minor": 0
}
